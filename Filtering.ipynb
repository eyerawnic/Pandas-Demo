{
 "cells": [
  {
   "cell_type": "code",
   "execution_count": 1,
   "id": "6609fe28-dd1d-4975-ab00-03dda753f6e8",
   "metadata": {},
   "outputs": [],
   "source": [
    "people = {\n",
    "    \"first\" : [\"Pratyush\", \"Eyeronic\", \"Cache\"], \n",
    "    \"last\" : [\"Srivastava\", \"Gentleman\", \"Carti\"],\n",
    "    \"email\" : [\"Prats@email.com\", \"Eyeronic@email.com\", \"Slatt@email.com\"]\n",
    "}"
   ]
  },
  {
   "cell_type": "code",
   "execution_count": 3,
   "id": "440c0ced-6687-4a34-b06c-0e91288ee791",
   "metadata": {},
   "outputs": [],
   "source": [
    "import pandas as pd"
   ]
  },
  {
   "cell_type": "code",
   "execution_count": 4,
   "id": "299607be-76fb-4a68-96ff-139c5e05dfed",
   "metadata": {},
   "outputs": [],
   "source": [
    "df = pd.DataFrame(people)"
   ]
  },
  {
   "cell_type": "code",
   "execution_count": 5,
   "id": "066ff3fa-ef4f-4c68-b9e5-d7145a365a4d",
   "metadata": {},
   "outputs": [
    {
     "data": {
      "text/html": [
       "<div>\n",
       "<style scoped>\n",
       "    .dataframe tbody tr th:only-of-type {\n",
       "        vertical-align: middle;\n",
       "    }\n",
       "\n",
       "    .dataframe tbody tr th {\n",
       "        vertical-align: top;\n",
       "    }\n",
       "\n",
       "    .dataframe thead th {\n",
       "        text-align: right;\n",
       "    }\n",
       "</style>\n",
       "<table border=\"1\" class=\"dataframe\">\n",
       "  <thead>\n",
       "    <tr style=\"text-align: right;\">\n",
       "      <th></th>\n",
       "      <th>first</th>\n",
       "      <th>last</th>\n",
       "      <th>email</th>\n",
       "    </tr>\n",
       "  </thead>\n",
       "  <tbody>\n",
       "    <tr>\n",
       "      <th>0</th>\n",
       "      <td>Pratyush</td>\n",
       "      <td>Srivastava</td>\n",
       "      <td>Prats@email.com</td>\n",
       "    </tr>\n",
       "    <tr>\n",
       "      <th>1</th>\n",
       "      <td>Eyeronic</td>\n",
       "      <td>Gentleman</td>\n",
       "      <td>Eyeronic@email.com</td>\n",
       "    </tr>\n",
       "    <tr>\n",
       "      <th>2</th>\n",
       "      <td>Cache</td>\n",
       "      <td>Carti</td>\n",
       "      <td>Slatt@email.com</td>\n",
       "    </tr>\n",
       "  </tbody>\n",
       "</table>\n",
       "</div>"
      ],
      "text/plain": [
       "      first        last               email\n",
       "0  Pratyush  Srivastava     Prats@email.com\n",
       "1  Eyeronic   Gentleman  Eyeronic@email.com\n",
       "2     Cache       Carti     Slatt@email.com"
      ]
     },
     "execution_count": 5,
     "metadata": {},
     "output_type": "execute_result"
    }
   ],
   "source": [
    "df"
   ]
  },
  {
   "cell_type": "code",
   "execution_count": 19,
   "id": "342802eb-39be-47a1-8edf-3f075faec07b",
   "metadata": {},
   "outputs": [],
   "source": [
    "filt = (df['last'] == 'Gentleman') | (df['first'] == 'Cache')"
   ]
  },
  {
   "cell_type": "code",
   "execution_count": 21,
   "id": "75124ff6-bad1-4d66-87ca-b782e811b870",
   "metadata": {},
   "outputs": [
    {
     "data": {
      "text/plain": [
       "0    Prats@email.com\n",
       "Name: email, dtype: object"
      ]
     },
     "execution_count": 21,
     "metadata": {},
     "output_type": "execute_result"
    }
   ],
   "source": [
    "df.loc[~filt, 'email']"
   ]
  },
  {
   "cell_type": "code",
   "execution_count": null,
   "id": "359d4e7a-8df1-4b28-adb8-6ef5b98a9e49",
   "metadata": {},
   "outputs": [],
   "source": []
  }
 ],
 "metadata": {
  "kernelspec": {
   "display_name": "Python 3 (ipykernel)",
   "language": "python",
   "name": "python3"
  },
  "language_info": {
   "codemirror_mode": {
    "name": "ipython",
    "version": 3
   },
   "file_extension": ".py",
   "mimetype": "text/x-python",
   "name": "python",
   "nbconvert_exporter": "python",
   "pygments_lexer": "ipython3",
   "version": "3.10.7"
  }
 },
 "nbformat": 4,
 "nbformat_minor": 5
}
