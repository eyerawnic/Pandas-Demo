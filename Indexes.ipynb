{
 "cells": [
  {
   "cell_type": "code",
   "execution_count": 1,
   "id": "db9faa70-d918-402b-8b2d-c88aa9cb6e33",
   "metadata": {},
   "outputs": [],
   "source": [
    "people = {\n",
    "    \"first\" : [\"Pratyush\", \"Eyeronic\", \"Cache\"], \n",
    "    \"last\" : [\"Srivastava\", \"Gentleman\", \"Carti\"],\n",
    "    \"email\" : [\"Prats@email.com\", \"Eyeronic@email.com\", \"Slatt@email.com\"]\n",
    "}"
   ]
  },
  {
   "cell_type": "code",
   "execution_count": 2,
   "id": "fd27b9a3-e703-4823-8769-70c035c4a0c7",
   "metadata": {},
   "outputs": [],
   "source": [
    "import pandas as pd"
   ]
  },
  {
   "cell_type": "code",
   "execution_count": 3,
   "id": "642b0ca3-e802-46c7-a57c-8905bb8d920a",
   "metadata": {},
   "outputs": [],
   "source": [
    "df = pd.DataFrame(people)"
   ]
  },
  {
   "cell_type": "code",
   "execution_count": 4,
   "id": "66a61ae6-c6d5-4f4c-ba76-4a210c238eb9",
   "metadata": {},
   "outputs": [
    {
     "data": {
      "text/html": [
       "<div>\n",
       "<style scoped>\n",
       "    .dataframe tbody tr th:only-of-type {\n",
       "        vertical-align: middle;\n",
       "    }\n",
       "\n",
       "    .dataframe tbody tr th {\n",
       "        vertical-align: top;\n",
       "    }\n",
       "\n",
       "    .dataframe thead th {\n",
       "        text-align: right;\n",
       "    }\n",
       "</style>\n",
       "<table border=\"1\" class=\"dataframe\">\n",
       "  <thead>\n",
       "    <tr style=\"text-align: right;\">\n",
       "      <th></th>\n",
       "      <th>first</th>\n",
       "      <th>last</th>\n",
       "      <th>email</th>\n",
       "    </tr>\n",
       "  </thead>\n",
       "  <tbody>\n",
       "    <tr>\n",
       "      <th>0</th>\n",
       "      <td>Pratyush</td>\n",
       "      <td>Srivastava</td>\n",
       "      <td>Prats@email.com</td>\n",
       "    </tr>\n",
       "    <tr>\n",
       "      <th>1</th>\n",
       "      <td>Eyeronic</td>\n",
       "      <td>Gentleman</td>\n",
       "      <td>Eyeronic@email.com</td>\n",
       "    </tr>\n",
       "    <tr>\n",
       "      <th>2</th>\n",
       "      <td>Cache</td>\n",
       "      <td>Carti</td>\n",
       "      <td>Slatt@email.com</td>\n",
       "    </tr>\n",
       "  </tbody>\n",
       "</table>\n",
       "</div>"
      ],
      "text/plain": [
       "      first        last               email\n",
       "0  Pratyush  Srivastava     Prats@email.com\n",
       "1  Eyeronic   Gentleman  Eyeronic@email.com\n",
       "2     Cache       Carti     Slatt@email.com"
      ]
     },
     "execution_count": 4,
     "metadata": {},
     "output_type": "execute_result"
    }
   ],
   "source": [
    "df"
   ]
  },
  {
   "cell_type": "code",
   "execution_count": 6,
   "id": "07a19e14-f860-495f-b80d-449311b41a58",
   "metadata": {},
   "outputs": [
    {
     "data": {
      "text/plain": [
       "0       Prats@email.com\n",
       "1    Eyeronic@email.com\n",
       "2       Slatt@email.com\n",
       "Name: email, dtype: object"
      ]
     },
     "execution_count": 6,
     "metadata": {},
     "output_type": "execute_result"
    }
   ],
   "source": [
    "df['email']"
   ]
  },
  {
   "cell_type": "code",
   "execution_count": 9,
   "id": "903fd53d-e7f2-4484-8cd1-d1afda49b6a3",
   "metadata": {},
   "outputs": [],
   "source": [
    "df.set_index('email', inplace = True)"
   ]
  },
  {
   "cell_type": "code",
   "execution_count": 10,
   "id": "37773f46-a5d7-4498-83fd-8deb40fd24ac",
   "metadata": {},
   "outputs": [
    {
     "data": {
      "text/html": [
       "<div>\n",
       "<style scoped>\n",
       "    .dataframe tbody tr th:only-of-type {\n",
       "        vertical-align: middle;\n",
       "    }\n",
       "\n",
       "    .dataframe tbody tr th {\n",
       "        vertical-align: top;\n",
       "    }\n",
       "\n",
       "    .dataframe thead th {\n",
       "        text-align: right;\n",
       "    }\n",
       "</style>\n",
       "<table border=\"1\" class=\"dataframe\">\n",
       "  <thead>\n",
       "    <tr style=\"text-align: right;\">\n",
       "      <th></th>\n",
       "      <th>first</th>\n",
       "      <th>last</th>\n",
       "    </tr>\n",
       "    <tr>\n",
       "      <th>email</th>\n",
       "      <th></th>\n",
       "      <th></th>\n",
       "    </tr>\n",
       "  </thead>\n",
       "  <tbody>\n",
       "    <tr>\n",
       "      <th>Prats@email.com</th>\n",
       "      <td>Pratyush</td>\n",
       "      <td>Srivastava</td>\n",
       "    </tr>\n",
       "    <tr>\n",
       "      <th>Eyeronic@email.com</th>\n",
       "      <td>Eyeronic</td>\n",
       "      <td>Gentleman</td>\n",
       "    </tr>\n",
       "    <tr>\n",
       "      <th>Slatt@email.com</th>\n",
       "      <td>Cache</td>\n",
       "      <td>Carti</td>\n",
       "    </tr>\n",
       "  </tbody>\n",
       "</table>\n",
       "</div>"
      ],
      "text/plain": [
       "                       first        last\n",
       "email                                   \n",
       "Prats@email.com     Pratyush  Srivastava\n",
       "Eyeronic@email.com  Eyeronic   Gentleman\n",
       "Slatt@email.com        Cache       Carti"
      ]
     },
     "execution_count": 10,
     "metadata": {},
     "output_type": "execute_result"
    }
   ],
   "source": [
    "df"
   ]
  },
  {
   "cell_type": "code",
   "execution_count": 11,
   "id": "2b60b8d8-c84c-43f3-abc8-ad1f0df8da3d",
   "metadata": {},
   "outputs": [
    {
     "data": {
      "text/plain": [
       "Index(['Prats@email.com', 'Eyeronic@email.com', 'Slatt@email.com'], dtype='object', name='email')"
      ]
     },
     "execution_count": 11,
     "metadata": {},
     "output_type": "execute_result"
    }
   ],
   "source": [
    "df.index"
   ]
  },
  {
   "cell_type": "code",
   "execution_count": 13,
   "id": "99a3f128-4ed0-4390-9f96-44f2e3902889",
   "metadata": {},
   "outputs": [
    {
     "data": {
      "text/plain": [
       "'Carti'"
      ]
     },
     "execution_count": 13,
     "metadata": {},
     "output_type": "execute_result"
    }
   ],
   "source": [
    "df.loc['Slatt@email.com', 'last']"
   ]
  },
  {
   "cell_type": "code",
   "execution_count": 14,
   "id": "53e819b2-a675-4acc-bd12-2d6ba11cfd08",
   "metadata": {},
   "outputs": [],
   "source": [
    "df.reset_index(inplace = True)"
   ]
  },
  {
   "cell_type": "code",
   "execution_count": 15,
   "id": "0b8cf745-70a7-4ec4-b555-00497b257305",
   "metadata": {},
   "outputs": [
    {
     "data": {
      "text/html": [
       "<div>\n",
       "<style scoped>\n",
       "    .dataframe tbody tr th:only-of-type {\n",
       "        vertical-align: middle;\n",
       "    }\n",
       "\n",
       "    .dataframe tbody tr th {\n",
       "        vertical-align: top;\n",
       "    }\n",
       "\n",
       "    .dataframe thead th {\n",
       "        text-align: right;\n",
       "    }\n",
       "</style>\n",
       "<table border=\"1\" class=\"dataframe\">\n",
       "  <thead>\n",
       "    <tr style=\"text-align: right;\">\n",
       "      <th></th>\n",
       "      <th>email</th>\n",
       "      <th>first</th>\n",
       "      <th>last</th>\n",
       "    </tr>\n",
       "  </thead>\n",
       "  <tbody>\n",
       "    <tr>\n",
       "      <th>0</th>\n",
       "      <td>Prats@email.com</td>\n",
       "      <td>Pratyush</td>\n",
       "      <td>Srivastava</td>\n",
       "    </tr>\n",
       "    <tr>\n",
       "      <th>1</th>\n",
       "      <td>Eyeronic@email.com</td>\n",
       "      <td>Eyeronic</td>\n",
       "      <td>Gentleman</td>\n",
       "    </tr>\n",
       "    <tr>\n",
       "      <th>2</th>\n",
       "      <td>Slatt@email.com</td>\n",
       "      <td>Cache</td>\n",
       "      <td>Carti</td>\n",
       "    </tr>\n",
       "  </tbody>\n",
       "</table>\n",
       "</div>"
      ],
      "text/plain": [
       "                email     first        last\n",
       "0     Prats@email.com  Pratyush  Srivastava\n",
       "1  Eyeronic@email.com  Eyeronic   Gentleman\n",
       "2     Slatt@email.com     Cache       Carti"
      ]
     },
     "execution_count": 15,
     "metadata": {},
     "output_type": "execute_result"
    }
   ],
   "source": [
    "df"
   ]
  },
  {
   "cell_type": "code",
   "execution_count": null,
   "id": "dfc1d970-aa6e-4602-955a-3ca35df2fa4f",
   "metadata": {},
   "outputs": [],
   "source": []
  }
 ],
 "metadata": {
  "kernelspec": {
   "display_name": "Python 3 (ipykernel)",
   "language": "python",
   "name": "python3"
  },
  "language_info": {
   "codemirror_mode": {
    "name": "ipython",
    "version": 3
   },
   "file_extension": ".py",
   "mimetype": "text/x-python",
   "name": "python",
   "nbconvert_exporter": "python",
   "pygments_lexer": "ipython3",
   "version": "3.10.7"
  }
 },
 "nbformat": 4,
 "nbformat_minor": 5
}
