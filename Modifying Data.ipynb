{
 "cells": [
  {
   "cell_type": "code",
   "execution_count": 1,
   "id": "38234e4f-f9d0-42a8-a700-c30e7c036af4",
   "metadata": {},
   "outputs": [],
   "source": [
    "people = {\n",
    "    \"first\" : [\"Pratyush\", \"Eyeronic\", \"Cache\"], \n",
    "    \"last\" : [\"Srivastava\", \"Gentleman\", \"Carti\"],\n",
    "    \"email\" : [\"Prats@email.com\", \"Eyeronic@email.com\", \"Slatt@email.com\"]\n",
    "}"
   ]
  },
  {
   "cell_type": "code",
   "execution_count": 3,
   "id": "84e09663-84d1-4e55-9b94-11a9719f88a5",
   "metadata": {},
   "outputs": [],
   "source": [
    "import pandas as pd"
   ]
  },
  {
   "cell_type": "code",
   "execution_count": 4,
   "id": "90c03b77-2db6-4ecc-8ecf-cdbc7deb036a",
   "metadata": {},
   "outputs": [],
   "source": [
    "df = pd.DataFrame(people)"
   ]
  },
  {
   "cell_type": "code",
   "execution_count": 5,
   "id": "d3af9081-df99-4ced-80b1-9fe04ea7bba0",
   "metadata": {},
   "outputs": [
    {
     "data": {
      "text/html": [
       "<div>\n",
       "<style scoped>\n",
       "    .dataframe tbody tr th:only-of-type {\n",
       "        vertical-align: middle;\n",
       "    }\n",
       "\n",
       "    .dataframe tbody tr th {\n",
       "        vertical-align: top;\n",
       "    }\n",
       "\n",
       "    .dataframe thead th {\n",
       "        text-align: right;\n",
       "    }\n",
       "</style>\n",
       "<table border=\"1\" class=\"dataframe\">\n",
       "  <thead>\n",
       "    <tr style=\"text-align: right;\">\n",
       "      <th></th>\n",
       "      <th>first</th>\n",
       "      <th>last</th>\n",
       "      <th>email</th>\n",
       "    </tr>\n",
       "  </thead>\n",
       "  <tbody>\n",
       "    <tr>\n",
       "      <th>0</th>\n",
       "      <td>Pratyush</td>\n",
       "      <td>Srivastava</td>\n",
       "      <td>Prats@email.com</td>\n",
       "    </tr>\n",
       "    <tr>\n",
       "      <th>1</th>\n",
       "      <td>Eyeronic</td>\n",
       "      <td>Gentleman</td>\n",
       "      <td>Eyeronic@email.com</td>\n",
       "    </tr>\n",
       "    <tr>\n",
       "      <th>2</th>\n",
       "      <td>Cache</td>\n",
       "      <td>Carti</td>\n",
       "      <td>Slatt@email.com</td>\n",
       "    </tr>\n",
       "  </tbody>\n",
       "</table>\n",
       "</div>"
      ],
      "text/plain": [
       "      first        last               email\n",
       "0  Pratyush  Srivastava     Prats@email.com\n",
       "1  Eyeronic   Gentleman  Eyeronic@email.com\n",
       "2     Cache       Carti     Slatt@email.com"
      ]
     },
     "execution_count": 5,
     "metadata": {},
     "output_type": "execute_result"
    }
   ],
   "source": [
    "df"
   ]
  },
  {
   "cell_type": "code",
   "execution_count": 6,
   "id": "88ebe3b0-e909-4566-9b0e-86efae82082e",
   "metadata": {},
   "outputs": [
    {
     "data": {
      "text/plain": [
       "Index(['first', 'last', 'email'], dtype='object')"
      ]
     },
     "execution_count": 6,
     "metadata": {},
     "output_type": "execute_result"
    }
   ],
   "source": [
    "df.columns"
   ]
  },
  {
   "cell_type": "code",
   "execution_count": 8,
   "id": "e0194f74-204a-439e-b968-778d896b5cdc",
   "metadata": {},
   "outputs": [],
   "source": [
    "df.columns = ['first_name', 'last_name' , 'email']"
   ]
  },
  {
   "cell_type": "code",
   "execution_count": 9,
   "id": "d67136b9-3e94-420d-b61f-f9206036ccbc",
   "metadata": {},
   "outputs": [
    {
     "data": {
      "text/html": [
       "<div>\n",
       "<style scoped>\n",
       "    .dataframe tbody tr th:only-of-type {\n",
       "        vertical-align: middle;\n",
       "    }\n",
       "\n",
       "    .dataframe tbody tr th {\n",
       "        vertical-align: top;\n",
       "    }\n",
       "\n",
       "    .dataframe thead th {\n",
       "        text-align: right;\n",
       "    }\n",
       "</style>\n",
       "<table border=\"1\" class=\"dataframe\">\n",
       "  <thead>\n",
       "    <tr style=\"text-align: right;\">\n",
       "      <th></th>\n",
       "      <th>first_name</th>\n",
       "      <th>last_name</th>\n",
       "      <th>email</th>\n",
       "    </tr>\n",
       "  </thead>\n",
       "  <tbody>\n",
       "    <tr>\n",
       "      <th>0</th>\n",
       "      <td>Pratyush</td>\n",
       "      <td>Srivastava</td>\n",
       "      <td>Prats@email.com</td>\n",
       "    </tr>\n",
       "    <tr>\n",
       "      <th>1</th>\n",
       "      <td>Eyeronic</td>\n",
       "      <td>Gentleman</td>\n",
       "      <td>Eyeronic@email.com</td>\n",
       "    </tr>\n",
       "    <tr>\n",
       "      <th>2</th>\n",
       "      <td>Cache</td>\n",
       "      <td>Carti</td>\n",
       "      <td>Slatt@email.com</td>\n",
       "    </tr>\n",
       "  </tbody>\n",
       "</table>\n",
       "</div>"
      ],
      "text/plain": [
       "  first_name   last_name               email\n",
       "0   Pratyush  Srivastava     Prats@email.com\n",
       "1   Eyeronic   Gentleman  Eyeronic@email.com\n",
       "2      Cache       Carti     Slatt@email.com"
      ]
     },
     "execution_count": 9,
     "metadata": {},
     "output_type": "execute_result"
    }
   ],
   "source": [
    "df"
   ]
  },
  {
   "cell_type": "code",
   "execution_count": 26,
   "id": "3614171d-2767-454e-8243-3dd14b56b2e9",
   "metadata": {},
   "outputs": [],
   "source": [
    "df.columns = [x.lower() for x in df.columns]"
   ]
  },
  {
   "cell_type": "code",
   "execution_count": 27,
   "id": "610fcb26-bc35-470e-bb21-e59fe07270f7",
   "metadata": {},
   "outputs": [
    {
     "data": {
      "text/html": [
       "<div>\n",
       "<style scoped>\n",
       "    .dataframe tbody tr th:only-of-type {\n",
       "        vertical-align: middle;\n",
       "    }\n",
       "\n",
       "    .dataframe tbody tr th {\n",
       "        vertical-align: top;\n",
       "    }\n",
       "\n",
       "    .dataframe thead th {\n",
       "        text-align: right;\n",
       "    }\n",
       "</style>\n",
       "<table border=\"1\" class=\"dataframe\">\n",
       "  <thead>\n",
       "    <tr style=\"text-align: right;\">\n",
       "      <th></th>\n",
       "      <th>first_name</th>\n",
       "      <th>last_name</th>\n",
       "      <th>email</th>\n",
       "    </tr>\n",
       "  </thead>\n",
       "  <tbody>\n",
       "    <tr>\n",
       "      <th>0</th>\n",
       "      <td>Pratyush</td>\n",
       "      <td>Srivastava</td>\n",
       "      <td>Prats@email.com</td>\n",
       "    </tr>\n",
       "    <tr>\n",
       "      <th>1</th>\n",
       "      <td>Eyeronic</td>\n",
       "      <td>Gentleman</td>\n",
       "      <td>Eyeronic@email.com</td>\n",
       "    </tr>\n",
       "    <tr>\n",
       "      <th>2</th>\n",
       "      <td>Cache</td>\n",
       "      <td>Carti</td>\n",
       "      <td>Slatt@email.com</td>\n",
       "    </tr>\n",
       "  </tbody>\n",
       "</table>\n",
       "</div>"
      ],
      "text/plain": [
       "  first_name   last_name               email\n",
       "0   Pratyush  Srivastava     Prats@email.com\n",
       "1   Eyeronic   Gentleman  Eyeronic@email.com\n",
       "2      Cache       Carti     Slatt@email.com"
      ]
     },
     "execution_count": 27,
     "metadata": {},
     "output_type": "execute_result"
    }
   ],
   "source": [
    "df"
   ]
  },
  {
   "cell_type": "code",
   "execution_count": 28,
   "id": "d557c3c9-59c5-4cf2-8aa3-86b52ea75fde",
   "metadata": {},
   "outputs": [],
   "source": [
    "df.rename(columns = {'first_name':'first', 'last_name':'last'}, inplace = True)"
   ]
  },
  {
   "cell_type": "code",
   "execution_count": 29,
   "id": "8c638aac-c446-463a-85d2-985e531f9046",
   "metadata": {},
   "outputs": [
    {
     "data": {
      "text/html": [
       "<div>\n",
       "<style scoped>\n",
       "    .dataframe tbody tr th:only-of-type {\n",
       "        vertical-align: middle;\n",
       "    }\n",
       "\n",
       "    .dataframe tbody tr th {\n",
       "        vertical-align: top;\n",
       "    }\n",
       "\n",
       "    .dataframe thead th {\n",
       "        text-align: right;\n",
       "    }\n",
       "</style>\n",
       "<table border=\"1\" class=\"dataframe\">\n",
       "  <thead>\n",
       "    <tr style=\"text-align: right;\">\n",
       "      <th></th>\n",
       "      <th>first</th>\n",
       "      <th>last</th>\n",
       "      <th>email</th>\n",
       "    </tr>\n",
       "  </thead>\n",
       "  <tbody>\n",
       "    <tr>\n",
       "      <th>0</th>\n",
       "      <td>Pratyush</td>\n",
       "      <td>Srivastava</td>\n",
       "      <td>Prats@email.com</td>\n",
       "    </tr>\n",
       "    <tr>\n",
       "      <th>1</th>\n",
       "      <td>Eyeronic</td>\n",
       "      <td>Gentleman</td>\n",
       "      <td>Eyeronic@email.com</td>\n",
       "    </tr>\n",
       "    <tr>\n",
       "      <th>2</th>\n",
       "      <td>Cache</td>\n",
       "      <td>Carti</td>\n",
       "      <td>Slatt@email.com</td>\n",
       "    </tr>\n",
       "  </tbody>\n",
       "</table>\n",
       "</div>"
      ],
      "text/plain": [
       "      first        last               email\n",
       "0  Pratyush  Srivastava     Prats@email.com\n",
       "1  Eyeronic   Gentleman  Eyeronic@email.com\n",
       "2     Cache       Carti     Slatt@email.com"
      ]
     },
     "execution_count": 29,
     "metadata": {},
     "output_type": "execute_result"
    }
   ],
   "source": [
    "df"
   ]
  },
  {
   "cell_type": "code",
   "execution_count": 31,
   "id": "c184fcaf-c60f-46f6-8788-c323c6b27ab2",
   "metadata": {},
   "outputs": [],
   "source": [
    "df.loc[2] = ['Cache', 'Carti' , 'Cash@email.com']"
   ]
  },
  {
   "cell_type": "code",
   "execution_count": 32,
   "id": "f688c6ad-1f68-4725-ada8-920d7e7350f1",
   "metadata": {},
   "outputs": [
    {
     "data": {
      "text/html": [
       "<div>\n",
       "<style scoped>\n",
       "    .dataframe tbody tr th:only-of-type {\n",
       "        vertical-align: middle;\n",
       "    }\n",
       "\n",
       "    .dataframe tbody tr th {\n",
       "        vertical-align: top;\n",
       "    }\n",
       "\n",
       "    .dataframe thead th {\n",
       "        text-align: right;\n",
       "    }\n",
       "</style>\n",
       "<table border=\"1\" class=\"dataframe\">\n",
       "  <thead>\n",
       "    <tr style=\"text-align: right;\">\n",
       "      <th></th>\n",
       "      <th>first</th>\n",
       "      <th>last</th>\n",
       "      <th>email</th>\n",
       "    </tr>\n",
       "  </thead>\n",
       "  <tbody>\n",
       "    <tr>\n",
       "      <th>0</th>\n",
       "      <td>Pratyush</td>\n",
       "      <td>Srivastava</td>\n",
       "      <td>Prats@email.com</td>\n",
       "    </tr>\n",
       "    <tr>\n",
       "      <th>1</th>\n",
       "      <td>Eyeronic</td>\n",
       "      <td>Gentleman</td>\n",
       "      <td>Eyeronic@email.com</td>\n",
       "    </tr>\n",
       "    <tr>\n",
       "      <th>2</th>\n",
       "      <td>Cache</td>\n",
       "      <td>Carti</td>\n",
       "      <td>Cash@email.com</td>\n",
       "    </tr>\n",
       "  </tbody>\n",
       "</table>\n",
       "</div>"
      ],
      "text/plain": [
       "      first        last               email\n",
       "0  Pratyush  Srivastava     Prats@email.com\n",
       "1  Eyeronic   Gentleman  Eyeronic@email.com\n",
       "2     Cache       Carti      Cash@email.com"
      ]
     },
     "execution_count": 32,
     "metadata": {},
     "output_type": "execute_result"
    }
   ],
   "source": [
    "df"
   ]
  },
  {
   "cell_type": "code",
   "execution_count": 37,
   "id": "b83571b0-2c64-4941-9b22-35ca846e864a",
   "metadata": {},
   "outputs": [],
   "source": [
    "df.loc[2, ['last', 'email']] = ['Carti' , 'Slatt@email.com']"
   ]
  },
  {
   "cell_type": "code",
   "execution_count": 38,
   "id": "f68bb778-2199-4baa-93a1-5470df36a602",
   "metadata": {},
   "outputs": [
    {
     "data": {
      "text/html": [
       "<div>\n",
       "<style scoped>\n",
       "    .dataframe tbody tr th:only-of-type {\n",
       "        vertical-align: middle;\n",
       "    }\n",
       "\n",
       "    .dataframe tbody tr th {\n",
       "        vertical-align: top;\n",
       "    }\n",
       "\n",
       "    .dataframe thead th {\n",
       "        text-align: right;\n",
       "    }\n",
       "</style>\n",
       "<table border=\"1\" class=\"dataframe\">\n",
       "  <thead>\n",
       "    <tr style=\"text-align: right;\">\n",
       "      <th></th>\n",
       "      <th>first</th>\n",
       "      <th>last</th>\n",
       "      <th>email</th>\n",
       "    </tr>\n",
       "  </thead>\n",
       "  <tbody>\n",
       "    <tr>\n",
       "      <th>0</th>\n",
       "      <td>Pratyush</td>\n",
       "      <td>Srivastava</td>\n",
       "      <td>Prats@email.com</td>\n",
       "    </tr>\n",
       "    <tr>\n",
       "      <th>1</th>\n",
       "      <td>Eyeronic</td>\n",
       "      <td>Gentleman</td>\n",
       "      <td>Eyeronic@email.com</td>\n",
       "    </tr>\n",
       "    <tr>\n",
       "      <th>2</th>\n",
       "      <td>Cache</td>\n",
       "      <td>Carti</td>\n",
       "      <td>Slatt@email.com</td>\n",
       "    </tr>\n",
       "  </tbody>\n",
       "</table>\n",
       "</div>"
      ],
      "text/plain": [
       "      first        last               email\n",
       "0  Pratyush  Srivastava     Prats@email.com\n",
       "1  Eyeronic   Gentleman  Eyeronic@email.com\n",
       "2     Cache       Carti     Slatt@email.com"
      ]
     },
     "execution_count": 38,
     "metadata": {},
     "output_type": "execute_result"
    }
   ],
   "source": [
    "df"
   ]
  },
  {
   "cell_type": "code",
   "execution_count": 39,
   "id": "6744e17f-016d-488d-8509-b3b91d1dbb7a",
   "metadata": {},
   "outputs": [],
   "source": [
    "df.loc[2, 'last'] = 'Evil'"
   ]
  },
  {
   "cell_type": "code",
   "execution_count": 40,
   "id": "ac5c2a42-cfaf-42e5-9c48-62aa126a44c8",
   "metadata": {},
   "outputs": [
    {
     "data": {
      "text/html": [
       "<div>\n",
       "<style scoped>\n",
       "    .dataframe tbody tr th:only-of-type {\n",
       "        vertical-align: middle;\n",
       "    }\n",
       "\n",
       "    .dataframe tbody tr th {\n",
       "        vertical-align: top;\n",
       "    }\n",
       "\n",
       "    .dataframe thead th {\n",
       "        text-align: right;\n",
       "    }\n",
       "</style>\n",
       "<table border=\"1\" class=\"dataframe\">\n",
       "  <thead>\n",
       "    <tr style=\"text-align: right;\">\n",
       "      <th></th>\n",
       "      <th>first</th>\n",
       "      <th>last</th>\n",
       "      <th>email</th>\n",
       "    </tr>\n",
       "  </thead>\n",
       "  <tbody>\n",
       "    <tr>\n",
       "      <th>0</th>\n",
       "      <td>Pratyush</td>\n",
       "      <td>Srivastava</td>\n",
       "      <td>Prats@email.com</td>\n",
       "    </tr>\n",
       "    <tr>\n",
       "      <th>1</th>\n",
       "      <td>Eyeronic</td>\n",
       "      <td>Gentleman</td>\n",
       "      <td>Eyeronic@email.com</td>\n",
       "    </tr>\n",
       "    <tr>\n",
       "      <th>2</th>\n",
       "      <td>Cache</td>\n",
       "      <td>Evil</td>\n",
       "      <td>Slatt@email.com</td>\n",
       "    </tr>\n",
       "  </tbody>\n",
       "</table>\n",
       "</div>"
      ],
      "text/plain": [
       "      first        last               email\n",
       "0  Pratyush  Srivastava     Prats@email.com\n",
       "1  Eyeronic   Gentleman  Eyeronic@email.com\n",
       "2     Cache        Evil     Slatt@email.com"
      ]
     },
     "execution_count": 40,
     "metadata": {},
     "output_type": "execute_result"
    }
   ],
   "source": [
    "df"
   ]
  },
  {
   "cell_type": "code",
   "execution_count": 48,
   "id": "517027af-fefe-4329-bafa-8cf01f2098ab",
   "metadata": {},
   "outputs": [],
   "source": [
    "filt = (df['email'] == 'Slatt@email.com')"
   ]
  },
  {
   "cell_type": "code",
   "execution_count": 50,
   "id": "4eb6f45f-7200-41c6-99d1-8906e9b81d7a",
   "metadata": {},
   "outputs": [
    {
     "name": "stderr",
     "output_type": "stream",
     "text": [
      "C:\\Users\\Asus\\AppData\\Local\\Temp\\ipykernel_17492\\1011811399.py:1: SettingWithCopyWarning: \n",
      "A value is trying to be set on a copy of a slice from a DataFrame.\n",
      "Try using .loc[row_indexer,col_indexer] = value instead\n",
      "\n",
      "See the caveats in the documentation: https://pandas.pydata.org/pandas-docs/stable/user_guide/indexing.html#returning-a-view-versus-a-copy\n",
      "  df[filt]['last'] = 'Evil'\n"
     ]
    }
   ],
   "source": [
    "df[filt]['last'] = 'Evil'"
   ]
  },
  {
   "cell_type": "code",
   "execution_count": 51,
   "id": "604788e8-3df5-48e8-9ae2-5584eddd603a",
   "metadata": {},
   "outputs": [],
   "source": [
    "df.loc[filt, 'last'] = 'Evil'"
   ]
  },
  {
   "cell_type": "code",
   "execution_count": 54,
   "id": "4f9f7f33-b1ff-43b7-b0e2-615ab572e4db",
   "metadata": {},
   "outputs": [],
   "source": [
    "df['email'] = df['email'].str.lower()"
   ]
  },
  {
   "cell_type": "code",
   "execution_count": 55,
   "id": "cb430f34-e412-4eee-8247-b2ee83425895",
   "metadata": {},
   "outputs": [
    {
     "data": {
      "text/html": [
       "<div>\n",
       "<style scoped>\n",
       "    .dataframe tbody tr th:only-of-type {\n",
       "        vertical-align: middle;\n",
       "    }\n",
       "\n",
       "    .dataframe tbody tr th {\n",
       "        vertical-align: top;\n",
       "    }\n",
       "\n",
       "    .dataframe thead th {\n",
       "        text-align: right;\n",
       "    }\n",
       "</style>\n",
       "<table border=\"1\" class=\"dataframe\">\n",
       "  <thead>\n",
       "    <tr style=\"text-align: right;\">\n",
       "      <th></th>\n",
       "      <th>first</th>\n",
       "      <th>last</th>\n",
       "      <th>email</th>\n",
       "    </tr>\n",
       "  </thead>\n",
       "  <tbody>\n",
       "    <tr>\n",
       "      <th>0</th>\n",
       "      <td>Pratyush</td>\n",
       "      <td>Srivastava</td>\n",
       "      <td>prats@email.com</td>\n",
       "    </tr>\n",
       "    <tr>\n",
       "      <th>1</th>\n",
       "      <td>Eyeronic</td>\n",
       "      <td>Gentleman</td>\n",
       "      <td>eyeronic@email.com</td>\n",
       "    </tr>\n",
       "    <tr>\n",
       "      <th>2</th>\n",
       "      <td>Cache</td>\n",
       "      <td>Evil</td>\n",
       "      <td>slatt@email.com</td>\n",
       "    </tr>\n",
       "  </tbody>\n",
       "</table>\n",
       "</div>"
      ],
      "text/plain": [
       "      first        last               email\n",
       "0  Pratyush  Srivastava     prats@email.com\n",
       "1  Eyeronic   Gentleman  eyeronic@email.com\n",
       "2     Cache        Evil     slatt@email.com"
      ]
     },
     "execution_count": 55,
     "metadata": {},
     "output_type": "execute_result"
    }
   ],
   "source": [
    "df"
   ]
  },
  {
   "cell_type": "code",
   "execution_count": 57,
   "id": "21b579f9-7f06-4f3f-9bf2-c0de85c00b83",
   "metadata": {},
   "outputs": [
    {
     "data": {
      "text/plain": [
       "0    15\n",
       "1    18\n",
       "2    15\n",
       "Name: email, dtype: int64"
      ]
     },
     "execution_count": 57,
     "metadata": {},
     "output_type": "execute_result"
    }
   ],
   "source": [
    "df['email'].apply(len)"
   ]
  },
  {
   "cell_type": "code",
   "execution_count": 63,
   "id": "c31e785e-037e-4bec-8b52-39d62353aefd",
   "metadata": {},
   "outputs": [],
   "source": [
    "def update_email(email):\n",
    "    return email.upper()"
   ]
  },
  {
   "cell_type": "code",
   "execution_count": 64,
   "id": "8567ed3a-54e7-493f-afd3-c1bbc178ec5b",
   "metadata": {},
   "outputs": [
    {
     "data": {
      "text/plain": [
       "0       PRATS@EMAIL.COM\n",
       "1    EYERONIC@EMAIL.COM\n",
       "2       SLATT@EMAIL.COM\n",
       "Name: email, dtype: object"
      ]
     },
     "execution_count": 64,
     "metadata": {},
     "output_type": "execute_result"
    }
   ],
   "source": [
    "df['email'].apply(update_email)"
   ]
  },
  {
   "cell_type": "code",
   "execution_count": 65,
   "id": "78f466a4-ffb9-49d3-8f40-e6d41b547b6e",
   "metadata": {},
   "outputs": [],
   "source": [
    "df['email'] = df['email'].apply(update_email)"
   ]
  },
  {
   "cell_type": "code",
   "execution_count": 66,
   "id": "f818ec0c-fe70-4e9b-9fb6-9e75f3521eb1",
   "metadata": {},
   "outputs": [
    {
     "data": {
      "text/html": [
       "<div>\n",
       "<style scoped>\n",
       "    .dataframe tbody tr th:only-of-type {\n",
       "        vertical-align: middle;\n",
       "    }\n",
       "\n",
       "    .dataframe tbody tr th {\n",
       "        vertical-align: top;\n",
       "    }\n",
       "\n",
       "    .dataframe thead th {\n",
       "        text-align: right;\n",
       "    }\n",
       "</style>\n",
       "<table border=\"1\" class=\"dataframe\">\n",
       "  <thead>\n",
       "    <tr style=\"text-align: right;\">\n",
       "      <th></th>\n",
       "      <th>first</th>\n",
       "      <th>last</th>\n",
       "      <th>email</th>\n",
       "    </tr>\n",
       "  </thead>\n",
       "  <tbody>\n",
       "    <tr>\n",
       "      <th>0</th>\n",
       "      <td>Pratyush</td>\n",
       "      <td>Srivastava</td>\n",
       "      <td>PRATS@EMAIL.COM</td>\n",
       "    </tr>\n",
       "    <tr>\n",
       "      <th>1</th>\n",
       "      <td>Eyeronic</td>\n",
       "      <td>Gentleman</td>\n",
       "      <td>EYERONIC@EMAIL.COM</td>\n",
       "    </tr>\n",
       "    <tr>\n",
       "      <th>2</th>\n",
       "      <td>Cache</td>\n",
       "      <td>Evil</td>\n",
       "      <td>SLATT@EMAIL.COM</td>\n",
       "    </tr>\n",
       "  </tbody>\n",
       "</table>\n",
       "</div>"
      ],
      "text/plain": [
       "      first        last               email\n",
       "0  Pratyush  Srivastava     PRATS@EMAIL.COM\n",
       "1  Eyeronic   Gentleman  EYERONIC@EMAIL.COM\n",
       "2     Cache        Evil     SLATT@EMAIL.COM"
      ]
     },
     "execution_count": 66,
     "metadata": {},
     "output_type": "execute_result"
    }
   ],
   "source": [
    "df"
   ]
  },
  {
   "cell_type": "code",
   "execution_count": 67,
   "id": "8b01bfa8-7731-4060-a954-dca44e548a68",
   "metadata": {},
   "outputs": [],
   "source": [
    "df['email'] = df['email'].apply(lambda x:x.lower())"
   ]
  },
  {
   "cell_type": "code",
   "execution_count": 68,
   "id": "bd44244d-ebe4-48ef-83b7-7492b637976a",
   "metadata": {},
   "outputs": [
    {
     "data": {
      "text/html": [
       "<div>\n",
       "<style scoped>\n",
       "    .dataframe tbody tr th:only-of-type {\n",
       "        vertical-align: middle;\n",
       "    }\n",
       "\n",
       "    .dataframe tbody tr th {\n",
       "        vertical-align: top;\n",
       "    }\n",
       "\n",
       "    .dataframe thead th {\n",
       "        text-align: right;\n",
       "    }\n",
       "</style>\n",
       "<table border=\"1\" class=\"dataframe\">\n",
       "  <thead>\n",
       "    <tr style=\"text-align: right;\">\n",
       "      <th></th>\n",
       "      <th>first</th>\n",
       "      <th>last</th>\n",
       "      <th>email</th>\n",
       "    </tr>\n",
       "  </thead>\n",
       "  <tbody>\n",
       "    <tr>\n",
       "      <th>0</th>\n",
       "      <td>Pratyush</td>\n",
       "      <td>Srivastava</td>\n",
       "      <td>prats@email.com</td>\n",
       "    </tr>\n",
       "    <tr>\n",
       "      <th>1</th>\n",
       "      <td>Eyeronic</td>\n",
       "      <td>Gentleman</td>\n",
       "      <td>eyeronic@email.com</td>\n",
       "    </tr>\n",
       "    <tr>\n",
       "      <th>2</th>\n",
       "      <td>Cache</td>\n",
       "      <td>Evil</td>\n",
       "      <td>slatt@email.com</td>\n",
       "    </tr>\n",
       "  </tbody>\n",
       "</table>\n",
       "</div>"
      ],
      "text/plain": [
       "      first        last               email\n",
       "0  Pratyush  Srivastava     prats@email.com\n",
       "1  Eyeronic   Gentleman  eyeronic@email.com\n",
       "2     Cache        Evil     slatt@email.com"
      ]
     },
     "execution_count": 68,
     "metadata": {},
     "output_type": "execute_result"
    }
   ],
   "source": [
    "df"
   ]
  },
  {
   "cell_type": "code",
   "execution_count": 69,
   "id": "6e22f335-c834-40ae-b685-e892a0c96807",
   "metadata": {},
   "outputs": [
    {
     "data": {
      "text/plain": [
       "0    15\n",
       "1    18\n",
       "2    15\n",
       "Name: email, dtype: int64"
      ]
     },
     "execution_count": 69,
     "metadata": {},
     "output_type": "execute_result"
    }
   ],
   "source": [
    "df['email'].apply(len)"
   ]
  },
  {
   "cell_type": "code",
   "execution_count": 72,
   "id": "8903eb1d-872b-4661-ae9e-35647d52134b",
   "metadata": {},
   "outputs": [
    {
     "data": {
      "text/plain": [
       "0    3\n",
       "1    3\n",
       "2    3\n",
       "dtype: int64"
      ]
     },
     "execution_count": 72,
     "metadata": {},
     "output_type": "execute_result"
    }
   ],
   "source": [
    "df.apply(len, axis = 'columns')"
   ]
  },
  {
   "cell_type": "code",
   "execution_count": 71,
   "id": "16e593b3-0b59-4063-bded-8b404de4e117",
   "metadata": {},
   "outputs": [
    {
     "data": {
      "text/plain": [
       "3"
      ]
     },
     "execution_count": 71,
     "metadata": {},
     "output_type": "execute_result"
    }
   ],
   "source": [
    "len(df['email'])"
   ]
  },
  {
   "cell_type": "code",
   "execution_count": 73,
   "id": "b0bff8dc-9303-46a4-9940-38913442a095",
   "metadata": {},
   "outputs": [
    {
     "data": {
      "text/plain": [
       "first                 Cache\n",
       "last                   Evil\n",
       "email    eyeronic@email.com\n",
       "dtype: object"
      ]
     },
     "execution_count": 73,
     "metadata": {},
     "output_type": "execute_result"
    }
   ],
   "source": [
    "df.apply(pd.Series.min)"
   ]
  },
  {
   "cell_type": "code",
   "execution_count": 75,
   "id": "2ce1e5a8-abf5-43eb-828e-9fe1a4ec1fa7",
   "metadata": {},
   "outputs": [
    {
     "data": {
      "text/plain": [
       "first           Pratyush\n",
       "last          Srivastava\n",
       "email    slatt@email.com\n",
       "dtype: object"
      ]
     },
     "execution_count": 75,
     "metadata": {},
     "output_type": "execute_result"
    }
   ],
   "source": [
    "df.apply(lambda x:x.max())"
   ]
  },
  {
   "cell_type": "code",
   "execution_count": 78,
   "id": "015edda6-a309-4df2-a1e9-bc3b3e05385e",
   "metadata": {},
   "outputs": [
    {
     "name": "stderr",
     "output_type": "stream",
     "text": [
      "C:\\Users\\Asus\\AppData\\Local\\Temp\\ipykernel_17492\\1485728669.py:1: FutureWarning: DataFrame.applymap has been deprecated. Use DataFrame.map instead.\n",
      "  df.applymap(len)\n"
     ]
    },
    {
     "data": {
      "text/html": [
       "<div>\n",
       "<style scoped>\n",
       "    .dataframe tbody tr th:only-of-type {\n",
       "        vertical-align: middle;\n",
       "    }\n",
       "\n",
       "    .dataframe tbody tr th {\n",
       "        vertical-align: top;\n",
       "    }\n",
       "\n",
       "    .dataframe thead th {\n",
       "        text-align: right;\n",
       "    }\n",
       "</style>\n",
       "<table border=\"1\" class=\"dataframe\">\n",
       "  <thead>\n",
       "    <tr style=\"text-align: right;\">\n",
       "      <th></th>\n",
       "      <th>first</th>\n",
       "      <th>last</th>\n",
       "      <th>email</th>\n",
       "    </tr>\n",
       "  </thead>\n",
       "  <tbody>\n",
       "    <tr>\n",
       "      <th>0</th>\n",
       "      <td>8</td>\n",
       "      <td>10</td>\n",
       "      <td>15</td>\n",
       "    </tr>\n",
       "    <tr>\n",
       "      <th>1</th>\n",
       "      <td>8</td>\n",
       "      <td>9</td>\n",
       "      <td>18</td>\n",
       "    </tr>\n",
       "    <tr>\n",
       "      <th>2</th>\n",
       "      <td>5</td>\n",
       "      <td>4</td>\n",
       "      <td>15</td>\n",
       "    </tr>\n",
       "  </tbody>\n",
       "</table>\n",
       "</div>"
      ],
      "text/plain": [
       "   first  last  email\n",
       "0      8    10     15\n",
       "1      8     9     18\n",
       "2      5     4     15"
      ]
     },
     "execution_count": 78,
     "metadata": {},
     "output_type": "execute_result"
    }
   ],
   "source": [
    "df.applymap(len)"
   ]
  },
  {
   "cell_type": "code",
   "execution_count": 80,
   "id": "67a666cf-d306-4316-bc0f-fe244d9a6345",
   "metadata": {},
   "outputs": [
    {
     "name": "stderr",
     "output_type": "stream",
     "text": [
      "C:\\Users\\Asus\\AppData\\Local\\Temp\\ipykernel_17492\\357608748.py:1: FutureWarning: DataFrame.applymap has been deprecated. Use DataFrame.map instead.\n",
      "  df.applymap(str.lower)\n"
     ]
    },
    {
     "data": {
      "text/html": [
       "<div>\n",
       "<style scoped>\n",
       "    .dataframe tbody tr th:only-of-type {\n",
       "        vertical-align: middle;\n",
       "    }\n",
       "\n",
       "    .dataframe tbody tr th {\n",
       "        vertical-align: top;\n",
       "    }\n",
       "\n",
       "    .dataframe thead th {\n",
       "        text-align: right;\n",
       "    }\n",
       "</style>\n",
       "<table border=\"1\" class=\"dataframe\">\n",
       "  <thead>\n",
       "    <tr style=\"text-align: right;\">\n",
       "      <th></th>\n",
       "      <th>first</th>\n",
       "      <th>last</th>\n",
       "      <th>email</th>\n",
       "    </tr>\n",
       "  </thead>\n",
       "  <tbody>\n",
       "    <tr>\n",
       "      <th>0</th>\n",
       "      <td>pratyush</td>\n",
       "      <td>srivastava</td>\n",
       "      <td>prats@email.com</td>\n",
       "    </tr>\n",
       "    <tr>\n",
       "      <th>1</th>\n",
       "      <td>eyeronic</td>\n",
       "      <td>gentleman</td>\n",
       "      <td>eyeronic@email.com</td>\n",
       "    </tr>\n",
       "    <tr>\n",
       "      <th>2</th>\n",
       "      <td>cache</td>\n",
       "      <td>evil</td>\n",
       "      <td>slatt@email.com</td>\n",
       "    </tr>\n",
       "  </tbody>\n",
       "</table>\n",
       "</div>"
      ],
      "text/plain": [
       "      first        last               email\n",
       "0  pratyush  srivastava     prats@email.com\n",
       "1  eyeronic   gentleman  eyeronic@email.com\n",
       "2     cache        evil     slatt@email.com"
      ]
     },
     "execution_count": 80,
     "metadata": {},
     "output_type": "execute_result"
    }
   ],
   "source": [
    "df.applymap(str.lower)"
   ]
  },
  {
   "cell_type": "code",
   "execution_count": 83,
   "id": "57c7c1dd-8f0a-45fc-b2bd-a6a58f8d1626",
   "metadata": {},
   "outputs": [
    {
     "data": {
      "text/plain": [
       "0         NaN\n",
       "1    Ayeronic\n",
       "2     Playboi\n",
       "Name: first, dtype: object"
      ]
     },
     "execution_count": 83,
     "metadata": {},
     "output_type": "execute_result"
    }
   ],
   "source": [
    "df['first'].map({ 'Eyeronic' : 'Ayeronic', 'Cache' : 'Playboi'})"
   ]
  },
  {
   "cell_type": "code",
   "execution_count": 85,
   "id": "592af56b-7ad5-4f10-ae1f-73826b497a39",
   "metadata": {},
   "outputs": [],
   "source": [
    "df['first'] = df['first'].replace({ 'Eyeronic' : 'Ayeronic', 'Cache' : 'Playboi'})"
   ]
  },
  {
   "cell_type": "code",
   "execution_count": 86,
   "id": "3c758845-6212-4ecc-9344-aa86f9505067",
   "metadata": {},
   "outputs": [
    {
     "data": {
      "text/html": [
       "<div>\n",
       "<style scoped>\n",
       "    .dataframe tbody tr th:only-of-type {\n",
       "        vertical-align: middle;\n",
       "    }\n",
       "\n",
       "    .dataframe tbody tr th {\n",
       "        vertical-align: top;\n",
       "    }\n",
       "\n",
       "    .dataframe thead th {\n",
       "        text-align: right;\n",
       "    }\n",
       "</style>\n",
       "<table border=\"1\" class=\"dataframe\">\n",
       "  <thead>\n",
       "    <tr style=\"text-align: right;\">\n",
       "      <th></th>\n",
       "      <th>first</th>\n",
       "      <th>last</th>\n",
       "      <th>email</th>\n",
       "    </tr>\n",
       "  </thead>\n",
       "  <tbody>\n",
       "    <tr>\n",
       "      <th>0</th>\n",
       "      <td>Pratyush</td>\n",
       "      <td>Srivastava</td>\n",
       "      <td>prats@email.com</td>\n",
       "    </tr>\n",
       "    <tr>\n",
       "      <th>1</th>\n",
       "      <td>Ayeronic</td>\n",
       "      <td>Gentleman</td>\n",
       "      <td>eyeronic@email.com</td>\n",
       "    </tr>\n",
       "    <tr>\n",
       "      <th>2</th>\n",
       "      <td>Playboi</td>\n",
       "      <td>Evil</td>\n",
       "      <td>slatt@email.com</td>\n",
       "    </tr>\n",
       "  </tbody>\n",
       "</table>\n",
       "</div>"
      ],
      "text/plain": [
       "      first        last               email\n",
       "0  Pratyush  Srivastava     prats@email.com\n",
       "1  Ayeronic   Gentleman  eyeronic@email.com\n",
       "2   Playboi        Evil     slatt@email.com"
      ]
     },
     "execution_count": 86,
     "metadata": {},
     "output_type": "execute_result"
    }
   ],
   "source": [
    "df"
   ]
  },
  {
   "cell_type": "code",
   "execution_count": null,
   "id": "b634aab2-bb53-48f8-b9be-d39f55fd19b9",
   "metadata": {},
   "outputs": [],
   "source": []
  }
 ],
 "metadata": {
  "kernelspec": {
   "display_name": "Python 3 (ipykernel)",
   "language": "python",
   "name": "python3"
  },
  "language_info": {
   "codemirror_mode": {
    "name": "ipython",
    "version": 3
   },
   "file_extension": ".py",
   "mimetype": "text/x-python",
   "name": "python",
   "nbconvert_exporter": "python",
   "pygments_lexer": "ipython3",
   "version": "3.10.7"
  }
 },
 "nbformat": 4,
 "nbformat_minor": 5
}
